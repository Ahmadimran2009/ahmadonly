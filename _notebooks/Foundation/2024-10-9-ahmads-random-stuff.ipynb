{
 "cells": [
  {
   "cell_type": "raw",
   "metadata": {
    "vscode": {
     "languageId": "raw"
    }
   },
   "source": [
    "---\n",
    "layout: post\n",
    "title: Sprint 2 reflection\n",
    "description: reflection for sprint 2\n",
    "type: issues\n",
    "permalink: /posts/reflection\n",
    "comments: true\n",
    "---"
   ]
  },
  {
   "cell_type": "markdown",
   "metadata": {
    "vscode": {
     "languageId": "javascript"
    }
   },
   "source": [
    "in the beginning of sprint 2, after the formation of our teams, we made our lessons for javascript and pyton my group did the 3.3 and 3.5 lessons.  worked on the popcorn hacks for 3.3 and created the homework, while my group tackled other parts. we also helped eachother along the way and asked the teacher for guidance if we really needed to. in 3.3 we went over important mathematical terms and how to use tehm in python and javascript. in 3.5 we focused on booleons, how they work and how to use them in python and javascript. After the lesson I learned many new and interesting stuff about arrays, if statements, mathematical operations, logical operators, variables and strings all in python and javascript. This should have significantly help me for the college board AP test because we learned a lot about the the different topics that will be on the exam and more stuff that will be tested.\n",
    "\n",
    "Link to my issue: [link](https://github.com/Ahmadimran2009/Ahmad_2026/issues/3#issue-2582284404)"
   ]
  },
  {
   "cell_type": "code",
   "execution_count": null,
   "metadata": {},
   "outputs": [],
   "source": [
    "homework for 3.6 and 3.7\n",
    "\n",
    "# Homework for 3.6 and 3.7\n",
    "# Function to classify age group\n",
    "def classify_age(age):\n",
    "    if 3 <= age <= 12:\n",
    "        return \"Child\"\n",
    "    elif 13 <= age <= 17:\n",
    "        return \"Teenager\"\n",
    "    else:\n",
    "        return \"Adult\"\n",
    "\n",
    "# Main program for age classification\n",
    "try:\n",
    "    # Get user input\n",
    "    age_input = int(input(\"Please enter your age: \"))\n",
    "    # Classify and print result\n",
    "    age_group = classify_age(age_input)\n",
    "    print(f\"You are classified as: {age_group}\")\n",
    "except ValueError:\n",
    "    print(\"Please enter a valid number for age.\")\n",
    "\n",
    "# Popcorn hack number 1: Example weather condition\n",
    "weather = \"Sunny\"\n",
    "if weather == \"Sunny\":\n",
    "    print(\"It's a bright day!\")\n",
    "elif weather == \"Rainy\":\n",
    "    print(\"Don't forget your umbrella!\")\n",
    "elif weather == \"Cloudy\":\n",
    "    print(\"It might rain later.\")\n",
    "else:\n",
    "    print(\"Weather condition unknown.\")\n",
    "\n",
    "# Popcorn hack number 3: Classifying traffic light status\n",
    "light = \"Yellow\"\n",
    "message = (\n",
    "    \"Go!\" if light == \"Green\" else\n",
    "    \"Slow down and prepare to stop.\" if light == \"Yellow\" else\n",
    "    \"Stop!\" if light == \"Red\" else\n",
    "    \"Unknown light status.\"\n",
    ")\n",
    "print(message)\n",
    "\n",
    "# Popcorn hack number 3: Classifying traffic light status\n",
    "light = \"Yellow\"\n",
    "message = (\n",
    "    \"Go!\" if light == \"Green\" else\n",
    "    \"Slow down and prepare to stop.\" if light == \"Yellow\" else\n",
    "    \"Stop!\" if light == \"Red\" else\n",
    "    \"Unknown light status.\"\n",
    ")\n",
    "print(message)\n"
   ]
  },
  {
   "cell_type": "markdown",
   "metadata": {},
   "source": [
    "homework for 3.1, 3.2, and 3.4 :\n",
    "\n",
    "![image](../images/Screenshot2024-10-07143458.png)\n",
    "![image](../images/Screenshot2024-10-09205114.png)\n",
    "![image](../images/Screenshot2024-10-09205127.png)\n",
    "![image](../images/Screenshot2024-10-09205147.png)\n",
    "![image](../images/Screenshot2024-10-09205158.png)\n",
    "![image](../images/Screenshot2024-10-15133044.png)\n",
    "![image](../images/Screenshot2024-10-15133059.png)\n",
    "![image](../images/Screenshot2024-10-15133110.png)\n",
    "![image](../images/Screenshot2024-10-15133116.png)\n",
    "![image](../images/Screenshot2024-10-09205114.png)\n",
    "<img src=\"/home/ahmad/nighthawk/student_2025/images/mcqnumber1.png\" alt=\"screenshot\">"
   ]
  }
 ],
 "metadata": {
  "kernelspec": {
   "display_name": "venv",
   "language": "python",
   "name": "python3"
  },
  "language_info": {
   "codemirror_mode": {
    "name": "ipython",
    "version": 3
   },
   "file_extension": ".py",
   "mimetype": "text/x-python",
   "name": "python",
   "nbconvert_exporter": "python",
   "pygments_lexer": "ipython3",
   "version": "3.10.12"
  }
 },
 "nbformat": 4,
 "nbformat_minor": 2
}
