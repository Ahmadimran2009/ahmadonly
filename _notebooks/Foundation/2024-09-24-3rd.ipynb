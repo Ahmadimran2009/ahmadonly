{
 "cells": [
  {
   "cell_type": "raw",
   "metadata": {
    "vscode": {
     "languageId": "raw"
    }
   },
   "source": [
    "---\n",
    "layout: post\n",
    "title: 2018 MCQ reflection & sprint 3 reflection and big accomplishment\n",
    "description:  click here \n",
    "type: issues \n",
    "comments: true\n",
    "---"
   ]
  },
  {
   "cell_type": "markdown",
   "metadata": {},
   "source": [
    "# Overall what I learned\n",
    "- I was able to get a better understanding on how ot read code and what the code really does. I also explored and learned a whole bunch of different computer science terms.\n",
    "\n",
    "- Things I could improve on is my overall vocabulary because throughout the exam I felt like that I was guessing what most of the words meant using context clues and not knowing their real and true definition, I also had trouble with the questions that told us what someone wanted to code and gave us some code and we had to figure out which one is correct. This startled me because most of the code looks really similar with only slight differences making me second guess myself.\n",
    "\n",
    "- During this whole MCQ I learned important terms such as the importance of citizen science, Internet Engineering Task Force (IETF), and cloud computing software.\n",
    "\n",
    "# corrections \n",
    "\n"
   ]
  },
  {
   "cell_type": "markdown",
   "metadata": {
    "vscode": {
     "languageId": "raw"
    }
   },
   "source": [
    "# Sprint 3 big accomplishment \n",
    "My biggest and most proudest accomplishment was that since I mainly worked on frontend, I created the overall templete/ outline for how our thing was going to look. The template I created was shared on a google doc called SPrint 3 ideas and led to the creation, formation, and structure of our whole website. Unfortunately the image wont load on vscode so I can show you the doc.\n",
    "\n",
    "Our project during this Sprint was to build an interactive social media webpage and utilize backend applications to retrieve data that could be used on our social media platform.\n",
    "Our webpage was centered around book reviews, where users can discuss and interact with reviews of popular books.\n",
    "\n",
    "Key features:\n",
    "\n",
    "Like function\n",
    "Rate function\n",
    "Comment and reply functions\n",
    "Post function\n",
    "\n",
    "# purpose of our program\n",
    "Our program displays a new book every time the page is refreshed.\n",
    "Users can share their personal experiences with the book by rating it out of five stars, liking the book, commenting on the book, and replying to others' comments. They also have the ability to post about new books they've read by selecting the book reviews group and choosing either the fiction or nonfiction channels.\n",
    "\n",
    "Key user interactions:\n",
    "\n",
    "Commenting and liking each other’s posts\n",
    "Posting in specific channels\n",
    "The input involves the user’s replies, while the output includes the post count and comment sections.\n",
    "\n",
    "# summary \n",
    "I learned a great deal during this sprint, both on the frontend and backend.\n",
    "On the frontend, I gained valuable experience in building a visually appealing user interface, focusing on creating intuitive layouts and responsive designs. I learned how to enhance user experience by incorporating interactive elements such as buttons, forms, and dynamic content. I also practiced implementing styles with CSS and JavaScript to make the webpage not only functional but also aesthetically pleasing. On the backend side, I learned how to test backend endpoints using Postman and manipulate data within databases. I also explored how to use JavaScript to fetch and display data dynamically from the backend. Additionally, I learned how to update and edit data on the backend to meet the needs of our project, ensuring seamless communication between the frontend and backend.\n",
    "\n",
    "\n"
   ]
  }
 ],
 "metadata": {
  "kernelspec": {
   "display_name": "venv",
   "language": "python",
   "name": "python3"
  },
  "language_info": {
   "codemirror_mode": {
    "name": "ipython",
    "version": 3
   },
   "file_extension": ".py",
   "mimetype": "text/x-python",
   "name": "python",
   "nbconvert_exporter": "python",
   "pygments_lexer": "ipython3",
   "version": "3.10.12"
  }
 },
 "nbformat": 4,
 "nbformat_minor": 2
}
