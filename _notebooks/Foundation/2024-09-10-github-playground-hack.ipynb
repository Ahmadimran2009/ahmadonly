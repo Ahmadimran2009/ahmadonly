{
 "cells": [
  {
   "cell_type": "raw",
   "metadata": {
    "vscode": {
     "languageId": "raw"
    }
   },
   "source": [
    "---\n",
    "layout: post\n",
    "title: Ahmads blog!!!\n",
    "description:  click here to see my blog\n",
    "type: issues \n",
    "comments: true\n",
    "---"
   ]
  },
  {
   "cell_type": "code",
   "execution_count": 8,
   "metadata": {},
   "outputs": [
    {
     "name": "stdout",
     "output_type": "stream",
     "text": [
      "You are classified as: Teenager\n"
     ]
    }
   ],
   "source": [
    "# Homework for 3.6 and 3.7\n",
    "# Function to classify age group\n",
    "def classify_age(age):\n",
    "    if 3 <= age <= 12:\n",
    "        return \"Child\"\n",
    "    elif 13 <= age <= 17:\n",
    "        return \"Teenager\"\n",
    "    else:\n",
    "        return \"Adult\"\n",
    "\n",
    "# Main program for age classification\n",
    "try:\n",
    "    # Get user input\n",
    "    age_input = int(input(\"Please enter your age: \"))\n",
    "    # Classify and print result\n",
    "    age_group = classify_age(age_input)\n",
    "    print(f\"You are classified as: {age_group}\")\n",
    "except ValueError:\n",
    "    print(\"Please enter a valid number for age.\")\n"
   ]
  },
  {
   "cell_type": "code",
   "execution_count": 9,
   "metadata": {},
   "outputs": [
    {
     "name": "stdout",
     "output_type": "stream",
     "text": [
      "It's a bright day!\n"
     ]
    }
   ],
   "source": [
    "# Popcorn hack number 1: Example weather condition\n",
    "weather = \"Sunny\"\n",
    "if weather == \"Sunny\":\n",
    "    print(\"It's a bright day!\")\n",
    "elif weather == \"Rainy\":\n",
    "    print(\"Don't forget your umbrella!\")\n",
    "elif weather == \"Cloudy\":\n",
    "    print(\"It might rain later.\")\n",
    "else:\n",
    "    print(\"Weather condition unknown.\")\n"
   ]
  },
  {
   "cell_type": "code",
   "execution_count": 10,
   "metadata": {},
   "outputs": [
    {
     "name": "stdout",
     "output_type": "stream",
     "text": [
      "Slow down and prepare to stop.\n"
     ]
    }
   ],
   "source": [
    "# Popcorn hack number 3: Classifying traffic light status\n",
    "light = \"Yellow\"\n",
    "message = (\n",
    "    \"Go!\" if light == \"Green\" else\n",
    "    \"Slow down and prepare to stop.\" if light == \"Yellow\" else\n",
    "    \"Stop!\" if light == \"Red\" else\n",
    "    \"Unknown light status.\"\n",
    ")\n",
    "print(message)\n"
   ]
  },
  {
   "cell_type": "code",
   "execution_count": 11,
   "metadata": {},
   "outputs": [
    {
     "name": "stdout",
     "output_type": "stream",
     "text": [
      "Slow down and prepare to stop.\n"
     ]
    }
   ],
   "source": [
    "# Popcorn hack number 3: Classifying traffic light status\n",
    "light = \"Yellow\"\n",
    "message = (\n",
    "    \"Go!\" if light == \"Green\" else\n",
    "    \"Slow down and prepare to stop.\" if light == \"Yellow\" else\n",
    "    \"Stop!\" if light == \"Red\" else\n",
    "    \"Unknown light status.\"\n",
    ")\n",
    "print(message)\n"
   ]
  }
 ],
 "metadata": {
  "kernelspec": {
   "display_name": "venv",
   "language": "python",
   "name": "python3"
  },
  "language_info": {
   "codemirror_mode": {
    "name": "ipython",
    "version": 3
   },
   "file_extension": ".py",
   "mimetype": "text/x-python",
   "name": "python",
   "nbconvert_exporter": "python",
   "pygments_lexer": "ipython3",
   "version": "3.10.12"
  }
 },
 "nbformat": 4,
 "nbformat_minor": 2
}
