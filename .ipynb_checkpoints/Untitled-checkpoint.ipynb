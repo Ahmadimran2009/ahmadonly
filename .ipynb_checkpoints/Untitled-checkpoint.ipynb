{
 "cells": [
  {
   "cell_type": "code",
   "execution_count": 1,
   "id": "23c0b33c",
   "metadata": {},
   "outputs": [
    {
     "name": "stdout",
     "output_type": "stream",
     "text": [
      "hi, my name is Ahmad Imran and this is how I got to this place. First I got github and made my trepository but before we did that we made sure to check our toold just in case. then I finally got my website working! I then played around a little bit and soon realized all the amazing, fun and creative things I could do on my website. I first changed the theme to give it a changed and more aesthetic anf pleasing look. I then found some really fun codes to try out such as the slideshows, countdown, country generator, map, quiz and much more. Overall this journey so far has been fun and exciting while learning at the same time. I tried many different codes, some worked and some did not but at the end of the day it was fun and I learned something new. This was how I got here in the first place\n"
     ]
    }
   ],
   "source": [
    "print(\"hi, my name is Ahmad Imran and this is how I got to this place. First I got github and made my trepository but before we did that we made sure to check our tools just in case. then I finally got my website working! I then played around a little bit and soon realized all the amazing, fun and creative things I could do on my website. I first changed the theme to give it a changed and more aesthetic anf pleasing look. I then found some really fun codes to try out such as the slideshows, countdown, country generator, map, quiz and much more. Overall this journey so far has been fun and exciting while learning at the same time. I tried many different codes, some worked and some did not but at the end of the day it was fun and I learned something new. This was how I got here in the first place\")"
   ]
  },
  {
   "cell_type": "code",
   "execution_count": null,
   "id": "54ab8324",
   "metadata": {},
   "outputs": [],
   "source": [
    "%%javascript\n",
    "<!DOCTYPE html>\n",
    "<html lang=\"en\">\n",
    "<head>\n",
    "    <meta charset=\"UTF-8\">\n",
    "    <meta name=\"viewport\" content=\"width=device-width, initial-scale=1.0\">\n",
    "    <title>Color-Changing Button</title>\n",
    "    <style>\n",
    "        #colorButton {\n",
    "            padding: 15px 30px;\n",
    "            font-size: 16px;\n",
    "            color: #fff;\n",
    "            border: none;\n",
    "            border-radius: 5px;\n",
    "            cursor: pointer;\n",
    "            transition: background-color 0.3s;\n",
    "        }\n",
    "    </style>\n",
    "</head>\n",
    "<body>\n",
    "    <button id=\"colorButton\">Click me to change color!</button>\n",
    "\n",
    "    <script>\n",
    "        // Function to generate a random color\n",
    "        function getRandomColor() {\n",
    "            const letters = '0123456789ABCDEF';\n",
    "            let color = '#';\n",
    "            for (let i = 0; i < 6; i++) {\n",
    "                color += letters[Math.floor(Math.random() * 16)];\n",
    "            }\n",
    "            return color;\n",
    "        }\n",
    "\n",
    "        // Function to change the button color\n",
    "        function changeButtonColor() {\n",
    "            const button = document.getElementById('colorButton');\n",
    "            button.style.backgroundColor = getRandomColor();\n",
    "        }\n",
    "\n",
    "        // Add an event listener to the button\n",
    "        document.getElementById('colorButton').addEventListener('click', changeButtonColor);\n",
    "    </script>\n"
   ]
  },
  {
   "cell_type": "code",
   "execution_count": null,
   "id": "18211e9b",
   "metadata": {},
   "outputs": [],
   "source": []
  },
  {
   "cell_type": "code",
   "execution_count": null,
   "id": "2e86b609",
   "metadata": {},
   "outputs": [],
   "source": []
  }
 ],
 "metadata": {
  "kernelspec": {
   "display_name": "Python 3 (ipykernel)",
   "language": "python",
   "name": "python3"
  },
  "language_info": {
   "codemirror_mode": {
    "name": "ipython",
    "version": 3
   },
   "file_extension": ".py",
   "mimetype": "text/x-python",
   "name": "python",
   "nbconvert_exporter": "python",
   "pygments_lexer": "ipython3",
   "version": "3.10.12"
  }
 },
 "nbformat": 4,
 "nbformat_minor": 5
}
