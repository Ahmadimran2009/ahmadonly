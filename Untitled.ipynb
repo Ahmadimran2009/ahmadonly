{
 "cells": [
  {
   "cell_type": "code",
   "execution_count": 1,
   "id": "034886d9",
   "metadata": {},
   "outputs": [
    {
     "name": "stdout",
     "output_type": "stream",
     "text": [
      "hi, my name is Ahmad Imran and this is how I got to this place. First I got github and made my trepository but before we did that we made sure to check our toold just in case. then I finally got my website working! I then played around a little bit and soon realized all the amazing, fun and creative things I could do on my website. I first changed the theme to give it a changed and more aesthetic anf pleasing look. I then found some really fun codes to try out such as the slideshows, countdown, country generator, map, quiz and much more. Overall this journey so far has been fun and exciting while learning at the same time. I tried many different codes, some worked and some did not but at the end of the day it was fun and I learned something new. This was how I got here in the first place\n"
     ]
    }
   ],
   "source": [
    "print(\"hi, my name is Ahmad Imran and this is how I got to this place. First I got github and made my trepository but before we did that we made sure to check our tools just in case. then I finally got my website working! I then played around a little bit and soon realized all the amazing, fun and creative things I could do on my website. I first changed the theme to give it a changed and more aesthetic anf pleasing look. I then found some really fun codes to try out such as the slideshows, countdown, country generator, map, quiz and much more. Overall this journey so far has been fun and exciting while learning at the same time. I tried many different codes, some worked and some did not but at the end of the day it was fun and I learned something new. This was how I got here in the first place\")"
   ]
  },
  {
   "cell_type": "code",
   "execution_count": 5,
   "id": "91d3a169",
   "metadata": {},
   "outputs": [
    {
     "data": {
      "application/javascript": [
       "alert(\"hello from Javascript!\")\n"
      ],
      "text/plain": [
       "<IPython.core.display.Javascript object>"
      ]
     },
     "metadata": {},
     "output_type": "display_data"
    }
   ],
   "source": [
    "%%javascript\n",
    "alert(\"hello from Javascript!\")\n"
   ]
  },
  {
   "cell_type": "code",
   "execution_count": null,
   "id": "5b8c2c87",
   "metadata": {},
   "outputs": [],
   "source": []
  },
  {
   "cell_type": "code",
   "execution_count": null,
   "id": "d9575d50",
   "metadata": {},
   "outputs": [],
   "source": []
  }
 ],
 "metadata": {
  "kernelspec": {
   "display_name": "Python 3 (ipykernel)",
   "language": "python",
   "name": "python3"
  },
  "language_info": {
   "codemirror_mode": {
    "name": "ipython",
    "version": 3
   },
   "file_extension": ".py",
   "mimetype": "text/x-python",
   "name": "python",
   "nbconvert_exporter": "python",
   "pygments_lexer": "ipython3",
   "version": "3.10.12"
  }
 },
 "nbformat": 4,
 "nbformat_minor": 5
}
